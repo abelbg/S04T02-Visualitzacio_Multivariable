{
    "cells": [
        {
            "cell_type": "markdown",
            "source": [
                "# Seaborn Notes"
            ],
            "metadata": {}
        },
        {
            "cell_type": "markdown",
            "source": [
                "### Articles\r\n",
                "\r\n",
                "- [Image Visualization](https://towardsdatascience.com/attractive-effective-descriptive-image-visualization-in-python-aa6831d716dc)\r\n",
                "- [Visualization and interactive dashboard (Viz Tools)](https://towardsdatascience.com/visualization-and-interactive-dashboard-viz-tools-b9f8b9f8b9f8)\r\n",
                "- [ML Dashboard](https://towardsdatascience.com/ml-dashboard-a-visual-guide-to-machine-learning-dashboards-b9f8b9f8b9f8)"
            ],
            "metadata": {}
        },
        {
            "cell_type": "markdown",
            "source": [],
            "metadata": {}
        },
        {
            "cell_type": "markdown",
            "source": [],
            "metadata": {}
        }
    ],
    "metadata": {
        "orig_nbformat": 4,
        "language_info": {
            "name": "python"
        }
    },
    "nbformat": 4,
    "nbformat_minor": 2
}