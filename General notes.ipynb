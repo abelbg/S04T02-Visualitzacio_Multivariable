{
    "cells": [
        {
            "cell_type": "markdown",
            "source": [
                "# Data Visualization Notes"
            ],
            "metadata": {}
        },
        {
            "cell_type": "markdown",
            "source": [
                "## Packages\r\n",
                "\r\n",
                "These packaages are more suitable for producing static documents:\r\n",
                "- **Matplotlib** (generalist, complex): Consult notes\r\n",
                "- **Pandas** (simple, straightforward): Consult notes\r\n",
                "- **Seaborn** (statistical charting): Consult notes\r\n",
                "- **Plotnine** (ggplot2 style)\r\n",
                "- **MplFinance** (aimed at financial data)\r\n",
                "\r\n",
                "These packages are more suitable for web-based applications:\r\n",
                "- **Plotly**\r\n",
                "- **Bokeh**\r\n",
                "- **Altair**"
            ],
            "metadata": {}
        },
        {
            "cell_type": "markdown",
            "source": [
                "## Preprocessing\r\n",
                "* [Visualizing and preprocessing image dataset](https://towardsdatascience.com/visualizing-and-preprocessing-image-dataset-e3ad574f7be6)"
            ],
            "metadata": {}
        },
        {
            "cell_type": "markdown",
            "source": [
                "## Visualization\r\n",
                "- [Analyzing ML Model using Dashboard](https://towardsdatascience.com/analyzing-ml-model-using-dashboard-f69e17a942f9)\r\n",
                "- [Use of colors](https://towardsdatascience.com/the-power-of-color-in-data-visualizations-9868d661f2a0)\r\n",
                "- [Visualization libraries for Python](https://projectcodeed.blogspot.com/2021/07/5-visualization-libraries-for-python.html)"
            ],
            "metadata": {}
        },
        {
            "cell_type": "markdown",
            "source": [],
            "metadata": {}
        }
    ],
    "metadata": {
        "orig_nbformat": 4,
        "language_info": {
            "name": "python",
            "version": "3.8.5",
            "mimetype": "text/x-python",
            "codemirror_mode": {
                "name": "ipython",
                "version": 3
            },
            "pygments_lexer": "ipython3",
            "nbconvert_exporter": "python",
            "file_extension": ".py"
        },
        "kernelspec": {
            "name": "python3",
            "display_name": "Python 3.8.5 64-bit ('base': conda)"
        },
        "interpreter": {
            "hash": "6345758e5d736e732c2a7feeb6de508c9984c306a9009e8a74375b042c9b7f5c"
        }
    },
    "nbformat": 4,
    "nbformat_minor": 2
}